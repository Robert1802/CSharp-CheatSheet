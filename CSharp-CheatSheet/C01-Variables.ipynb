{
 "cells": [
  {
   "cell_type": "markdown",
   "metadata": {
    "dotnet_interactive": {
     "language": "csharp"
    },
    "polyglot_notebook": {
     "kernelName": "csharp"
    }
   },
   "source": [
    "## C# Variables\n",
    "\n",
    "### Variables are containers for storing data values.\n",
    "\n",
    "In C#, there are different types of variables (defined with different keywords), for example:\n",
    "\n",
    "    int - stores integers(whole numbers), without decimals, such as 123 or -123\n",
    "    double - stores floating point numbers, with decimals, such as 19.99 or -19.99\n",
    "    char - stores single characters, such as 'a' or 'B'. Char values are surrounded by single quotes\n",
    "    string - stores text, such as \"Hello World\". String values are surrounded by double quotes\n",
    "    bool - stores values with two states: true or false\n",
    "\n",
    "Declaring (Creating) Variables\n",
    "To create a variable, you must specify the type and assign it a value:\n",
    "\n",
    "    <type> variableName = value;  \n",
    "    int newVariable = 10;"
   ]
  },
  {
   "cell_type": "code",
   "execution_count": 2,
   "metadata": {
    "dotnet_interactive": {
     "language": "csharp"
    },
    "polyglot_notebook": {
     "kernelName": "csharp"
    },
    "vscode": {
     "languageId": "polyglot-notebook"
    }
   },
   "outputs": [
    {
     "name": "stdout",
     "output_type": "stream",
     "text": [
      "John\n",
      "15\n",
      "15\n",
      "20\n"
     ]
    }
   ],
   "source": [
    "// Create a variable called name of type string and assign it the value \"John\":\n",
    "string name = \"John\";\n",
    "Console.WriteLine(name);\n",
    "\n",
    "// Create a variable called myNum of type int and assign it the value 15:\n",
    "int myNum = 15;\n",
    "Console.WriteLine(myNum);\n",
    "\n",
    "// You can also declare a variable without assigning the value, and assign the value later:\n",
    "int myNum2;\n",
    "myNum2 = 15;\n",
    "Console.WriteLine(myNum2);\n",
    "\n",
    "// Note that if you assign a new value to an existing variable, it will overwrite the previous value:\n",
    "// Change the value of myNum to 20:\n",
    "int myNum3 = 15;\n",
    "myNum3 = 20; // myNum3 is now 20\n",
    "Console.WriteLine(myNum3);\n",
    "\n",
    "// A demonstration of how to declare variables of other types:\n",
    "int myNum4 = 5;\n",
    "double myDoubleNum = 5.99D;\n",
    "char myLetter = 'D';\n",
    "bool myBool = true;\n",
    "string myText = \"Hello\";\n"
   ]
  },
  {
   "cell_type": "markdown",
   "metadata": {
    "dotnet_interactive": {
     "language": "csharp"
    },
    "polyglot_notebook": {
     "kernelName": "csharp"
    }
   },
   "source": [
    "### Constants\n",
    "\n",
    "If you don't want others (or yourself) to overwrite existing values, you can add the const keyword in front of the variable type.\n",
    "This will declare the variable as \"constant\", which means unchangeable and read - only:\n"
   ]
  },
  {
   "cell_type": "code",
   "execution_count": null,
   "metadata": {
    "dotnet_interactive": {
     "language": "csharp"
    },
    "polyglot_notebook": {
     "kernelName": "csharp"
    },
    "vscode": {
     "languageId": "polyglot-notebook"
    }
   },
   "outputs": [
    {
     "ename": "Error",
     "evalue": "(3,1): error CS0131: The left-hand side of an assignment must be a variable, property or indexer",
     "output_type": "error",
     "traceback": [
      "(3,1): error CS0131: The left-hand side of an assignment must be a variable, property or indexer"
     ]
    }
   ],
   "source": [
    "\n",
    "const int myNum5 = 15;\n",
    "myNum5 = 20; // error"
   ]
  },
  {
   "cell_type": "markdown",
   "metadata": {
    "dotnet_interactive": {
     "language": "csharp"
    },
    "polyglot_notebook": {
     "kernelName": "csharp"
    }
   },
   "source": [
    "### Display Variables\n",
    "\n",
    "The WriteLine() method is often used to display variable values to the console window.\n",
    "To combine both text and a variable, use the +character:\n"
   ]
  },
  {
   "cell_type": "code",
   "execution_count": null,
   "metadata": {
    "dotnet_interactive": {
     "language": "csharp"
    },
    "polyglot_notebook": {
     "kernelName": "csharp"
    },
    "vscode": {
     "languageId": "polyglot-notebook"
    }
   },
   "outputs": [],
   "source": [
    "string newName = \"John\";\n",
    "Console.WriteLine(\"Hello \" + newName);\n",
    "\n",
    "// You can also use the + character to add a variable to another variable:\n",
    "string firstName = \"John \";\n",
    "string lastName = \"Doe\";\n",
    "string fullName = firstName + lastName;\n",
    "Console.WriteLine(fullName);\n",
    "\n",
    "// For numeric values, the + character works as a mathematical operator (notice that we use int(integer) variables here):\n",
    "int x = 5;\n",
    "int y = 6;\n",
    "Console.WriteLine(x + y); // 11 - Print the value of x + y\n"
   ]
  },
  {
   "cell_type": "markdown",
   "metadata": {
    "dotnet_interactive": {
     "language": "csharp"
    },
    "polyglot_notebook": {
     "kernelName": "csharp"
    }
   },
   "source": [
    "### Declare Many Variables\n",
    "            \n",
    "To declare more than one variable of the same type, use a comma-separated list:"
   ]
  },
  {
   "cell_type": "code",
   "execution_count": null,
   "metadata": {
    "dotnet_interactive": {
     "language": "csharp"
    },
    "polyglot_notebook": {
     "kernelName": "csharp"
    },
    "vscode": {
     "languageId": "polyglot-notebook"
    }
   },
   "outputs": [
    {
     "name": "stdout",
     "output_type": "stream",
     "text": [
      "61\n",
      "150\n"
     ]
    }
   ],
   "source": [
    "int x1 = 5, y1 = 6, z1 = 50;\n",
    "Console.WriteLine(x1 + y1 + z1);\n",
    "\n",
    "// You can also assign the same value to multiple variables in one line:\n",
    "\n",
    "int x2, y2, z2;\n",
    "x2 = y2 = z2 = 50;\n",
    "Console.WriteLine(x2 + y2 + z2);\n"
   ]
  },
  {
   "cell_type": "markdown",
   "metadata": {
    "dotnet_interactive": {
     "language": "csharp"
    },
    "polyglot_notebook": {
     "kernelName": "csharp"
    }
   },
   "source": [
    "### Data Types\n",
    "A variable in C# must be a specified data type:\n",
    "\n",
    "    int myNum = 5;               // Integer (whole number)   // Stores whole numbers from -2,147,483,648 to 2,147,483,647\n",
    "    double myDoubleNum = 5.99D;  // Floating point number    // Stores fractional numbers. Sufficient for storing 15 decimal digits\n",
    "    char myLetter = 'D';         // Character                // Stores a single character/letter, surrounded by single quotes\n",
    "    bool myBool = true;          // Boolean                  // Stores true or false values\n",
    "    string myText = \"Hello\";     // String                   // Stores a sequence of characters, surrounded by double quotes\n"
   ]
  },
  {
   "cell_type": "markdown",
   "metadata": {
    "dotnet_interactive": {
     "language": "csharp"
    },
    "polyglot_notebook": {
     "kernelName": "csharp"
    }
   },
   "source": [
    "### Type Casting\n",
    "\n",
    "Type casting is when you assign a value of one data type to another type.\n",
    "In C#, there are two types of casting:\n",
    "\n",
    "Implicit Casting(automatically) -converting a smaller type to a larger type size\n",
    "\n",
    "    char -> int -> long -> float -> double\n",
    "\n",
    "Explicit Casting(manually) - converting a larger type to a smaller size type\n",
    "\n",
    "    double -> float -> long -> int -> char\n",
    "\n",
    "Implicit Casting is done automatically when passing a smaller size type to a larger size type:"
   ]
  },
  {
   "cell_type": "code",
   "execution_count": null,
   "metadata": {
    "dotnet_interactive": {
     "language": "csharp"
    },
    "polyglot_notebook": {
     "kernelName": "csharp"
    },
    "vscode": {
     "languageId": "polyglot-notebook"
    }
   },
   "outputs": [
    {
     "name": "stdout",
     "output_type": "stream",
     "text": [
      "9\n",
      "9\n",
      "9.78\n",
      "9\n"
     ]
    }
   ],
   "source": [
    "int myInt = 9;\n",
    "double myDouble = myInt;       // Automatic casting: int to double\n",
    "\n",
    "Console.WriteLine(myInt);      // Outputs 9\n",
    "Console.WriteLine(myDouble);   // Outputs 9\n",
    "\n",
    "// Explicit Casting must be done manually by placing the type in parentheses in front of the value:\n",
    "\n",
    "double myNewDouble = 9.78;\n",
    "int myNewInt = (int)myNewDouble;    // Manual casting: double to int\n",
    "\n",
    "Console.WriteLine(myNewDouble);   // Outputs 9.78\n",
    "Console.WriteLine(myNewInt);      // Outputs 9\n"
   ]
  },
  {
   "cell_type": "markdown",
   "metadata": {
    "dotnet_interactive": {
     "language": "csharp"
    },
    "polyglot_notebook": {
     "kernelName": "csharp"
    }
   },
   "source": [
    "### Type Conversion Methods\n",
    "It is also possible to convert data types explicitly by using built-in methods, such as Convert.ToBoolean, Convert.ToDouble, Convert.ToString, Convert.ToInt32(int) and Convert.ToInt64(long):"
   ]
  },
  {
   "cell_type": "code",
   "execution_count": 1,
   "metadata": {
    "dotnet_interactive": {
     "language": "csharp"
    },
    "polyglot_notebook": {
     "kernelName": "csharp"
    },
    "vscode": {
     "languageId": "polyglot-notebook"
    }
   },
   "outputs": [
    {
     "name": "stdout",
     "output_type": "stream",
     "text": [
      "10\n",
      "10\n",
      "5\n",
      "True\n"
     ]
    }
   ],
   "source": [
    "int myIntVariable = 10;\n",
    "double myDoubleVariable = 5.25;\n",
    "bool myBoolVariable = true;\n",
    "\n",
    "Console.WriteLine(Convert.ToString(myIntVariable));    // convert int to string\n",
    "Console.WriteLine(Convert.ToDouble(myIntVariable));    // convert int to double\n",
    "Console.WriteLine(Convert.ToInt32(myDoubleVariable));  // convert double to int\n",
    "Console.WriteLine(Convert.ToString(myBoolVariable));   // convert bool to string"
   ]
  },
  {
   "cell_type": "markdown",
   "metadata": {
    "dotnet_interactive": {
     "language": "csharp"
    },
    "polyglot_notebook": {
     "kernelName": "csharp"
    }
   },
   "source": [
    "### Get User Input\n",
    "You have already learned that Console.WriteLine() is used to output(print) values.Now we will use Console.ReadLine() to get user input.\n",
    "In the following example, the user can input his or hers username, which is stored in the variable userName.Then we print the value of userName:\n",
    "\n",
    "Console.ReadLine() does not work in the interactive code Window below, but it is here for completeness and so that you can copy it to other code.\n"
   ]
  },
  {
   "cell_type": "code",
   "execution_count": null,
   "metadata": {
    "dotnet_interactive": {
     "language": "csharp"
    },
    "polyglot_notebook": {
     "kernelName": "csharp"
    },
    "vscode": {
     "languageId": "polyglot-notebook"
    }
   },
   "outputs": [
    {
     "name": "stdout",
     "output_type": "stream",
     "text": [
      "Enter username:\n",
      "Username is: \n",
      "Enter your age:\n"
     ]
    },
    {
     "ename": "Error",
     "evalue": "System.FormatException: The input string '' was not in a correct format.\r\n   at System.Number.ThrowOverflowOrFormatException(ParsingStatus status, ReadOnlySpan`1 value, TypeCode type)\r\n   at System.Convert.ToInt32(String value)\r\n   at Submission#10.<<Initialize>>d__0.MoveNext()\r\n--- End of stack trace from previous location ---\r\n   at Microsoft.CodeAnalysis.Scripting.ScriptExecutionState.RunSubmissionsAsync[TResult](ImmutableArray`1 precedingExecutors, Func`2 currentExecutor, StrongBox`1 exceptionHolderOpt, Func`2 catchExceptionOpt, CancellationToken cancellationToken)",
     "output_type": "error",
     "traceback": [
      "System.FormatException: The input string '' was not in a correct format.\r\n",
      "   at System.Number.ThrowOverflowOrFormatException(ParsingStatus status, ReadOnlySpan`1 value, TypeCode type)\r\n",
      "   at System.Convert.ToInt32(String value)\r\n",
      "   at Submission#10.<<Initialize>>d__0.MoveNext()\r\n",
      "--- End of stack trace from previous location ---\r\n",
      "   at Microsoft.CodeAnalysis.Scripting.ScriptExecutionState.RunSubmissionsAsync[TResult](ImmutableArray`1 precedingExecutors, Func`2 currentExecutor, StrongBox`1 exceptionHolderOpt, Func`2 catchExceptionOpt, CancellationToken cancellationToken)"
     ]
    }
   ],
   "source": [
    "// Type your username and press enter\n",
    "Console.WriteLine(\"Enter username:\");\n",
    "\n",
    "// Create a string variable and get user input from the keyboard and store it in the variable\n",
    "string userName = Console.ReadLine();\n",
    "\n",
    "// Print the value of the variable (userName), which will display the input value\n",
    "Console.WriteLine(\"Username is: \" + userName);\n",
    "\n",
    "// The Console.ReadLine() method returns a string.\n",
    "// Therefore, you cannot get information from another data type, such as int\n",
    "// Cannot implicitly convert type 'string' to 'int'\n",
    "\n",
    "Console.WriteLine(\"Enter your age:\");\n",
    "int age = Convert.ToInt32(Console.ReadLine());\n",
    "Console.WriteLine(\"Your age is: \" + age);\n"
   ]
  }
 ],
 "metadata": {
  "kernelspec": {
   "display_name": ".NET (C#)",
   "language": "C#",
   "name": ".net-csharp"
  },
  "polyglot_notebook": {
   "kernelInfo": {
    "defaultKernelName": "csharp",
    "items": [
     {
      "aliases": [
       "c#",
       "C#"
      ],
      "languageName": "C#",
      "name": "csharp"
     },
     {
      "aliases": [],
      "languageName": "Mermaid",
      "name": "mermaid"
     },
     {
      "aliases": [
       "frontend"
      ],
      "name": "vscode"
     },
     {
      "aliases": [],
      "name": ".NET"
     },
     {
      "aliases": [
       "f#",
       "F#"
      ],
      "languageName": "F#",
      "name": "fsharp"
     },
     {
      "aliases": [],
      "languageName": "HTML",
      "name": "html"
     },
     {
      "aliases": [
       "js"
      ],
      "languageName": "JavaScript",
      "name": "javascript"
     },
     {
      "aliases": [],
      "languageName": "KQL",
      "name": "kql"
     },
     {
      "aliases": [
       "powershell"
      ],
      "languageName": "PowerShell",
      "name": "pwsh"
     },
     {
      "aliases": [],
      "languageName": "SQL",
      "name": "sql"
     },
     {
      "aliases": [],
      "name": "value"
     },
     {
      "aliases": [],
      "name": "webview"
     }
    ]
   }
  }
 },
 "nbformat": 4,
 "nbformat_minor": 2
}
